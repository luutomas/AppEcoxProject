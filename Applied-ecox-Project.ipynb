{
 "cells": [
  {
   "cell_type": "code",
   "execution_count": 1,
   "metadata": {},
   "outputs": [
    {
     "name": "stderr",
     "output_type": "stream",
     "text": [
      "Loading required package: xts\n",
      "Loading required package: zoo\n",
      "\n",
      "Attaching package: ‘zoo’\n",
      "\n",
      "The following objects are masked from ‘package:base’:\n",
      "\n",
      "    as.Date, as.Date.numeric\n",
      "\n",
      "Registered S3 method overwritten by 'xts':\n",
      "  method     from\n",
      "  as.zoo.xts zoo \n",
      "Loading required package: TTR\n",
      "Registered S3 method overwritten by 'quantmod':\n",
      "  method            from\n",
      "  as.zoo.data.frame zoo \n",
      "Version 0.4-0 included new data defaults. See ?getSymbols.\n",
      "Loading required package: timeDate\n",
      "Loading required package: timeSeries\n",
      "\n",
      "Attaching package: ‘timeSeries’\n",
      "\n",
      "The following object is masked from ‘package:zoo’:\n",
      "\n",
      "    time<-\n",
      "\n",
      "Loading required package: fBasics\n",
      "\n",
      "Attaching package: ‘fBasics’\n",
      "\n",
      "The following object is masked from ‘package:TTR’:\n",
      "\n",
      "    volatility\n",
      "\n",
      "Registered S3 methods overwritten by 'ggplot2':\n",
      "  method         from \n",
      "  [.quosures     rlang\n",
      "  c.quosures     rlang\n",
      "  print.quosures rlang\n",
      "Registered S3 methods overwritten by 'forecast':\n",
      "  method             from    \n",
      "  fitted.fracdiff    fracdiff\n",
      "  residuals.fracdiff fracdiff\n",
      "\n",
      "Attaching package: ‘aTSA’\n",
      "\n",
      "The following object is masked from ‘package:forecast’:\n",
      "\n",
      "    forecast\n",
      "\n",
      "The following object is masked from ‘package:graphics’:\n",
      "\n",
      "    identify\n",
      "\n",
      "\n",
      "Attaching package: ‘tseries’\n",
      "\n",
      "The following objects are masked from ‘package:aTSA’:\n",
      "\n",
      "    adf.test, kpss.test, pp.test\n",
      "\n",
      "\n",
      "Attaching package: ‘MLmetrics’\n",
      "\n",
      "The following object is masked from ‘package:base’:\n",
      "\n",
      "    Recall\n",
      "\n"
     ]
    }
   ],
   "source": [
    "library(quantmod)\n",
    "library(fGarch)\n",
    "library(repr)\n",
    "library(forecast)\n",
    "library(aTSA)\n",
    "library(tseries)\n",
    "library(MLmetrics)"
   ]
  },
  {
   "cell_type": "code",
   "execution_count": 2,
   "metadata": {},
   "outputs": [
    {
     "name": "stderr",
     "output_type": "stream",
     "text": [
      "also installing the dependencies ‘kernlab’, ‘mclust’, ‘multicool’, ‘mvtnorm’, ‘DistributionUtils’, ‘GeneralizedHyperbolic’, ‘Rsolnp’, ‘nloptr’, ‘ks’, ‘spd’, ‘chron’, ‘SkewHyperbolic’, ‘expm’\n",
      "\n",
      "Warning message in install.packages(\"rugarch\"):\n",
      "“installation of package ‘mclust’ had non-zero exit status”Warning message in install.packages(\"rugarch\"):\n",
      "“installation of package ‘nloptr’ had non-zero exit status”Warning message in install.packages(\"rugarch\"):\n",
      "“installation of package ‘ks’ had non-zero exit status”Warning message in install.packages(\"rugarch\"):\n",
      "“installation of package ‘rugarch’ had non-zero exit status”Updating HTML index of packages in '.Library'\n",
      "Making 'packages.html' ... done\n"
     ]
    }
   ],
   "source": [
    "install.packages(\"rugarch\", repo = \"https://cran.r-project.org/web/packages/rugarch/index.html\")"
   ]
  },
  {
   "cell_type": "code",
   "execution_count": null,
   "metadata": {},
   "outputs": [],
   "source": [
    "library(rugarch)"
   ]
  },
  {
   "cell_type": "code",
   "execution_count": null,
   "metadata": {},
   "outputs": [],
   "source": [
    "getSymbols('BABA', src = 'yahoo', return.class = 'xts',from = \"2014-09-20\",to=\"2019-12-31\")\n",
    "head(BABA)\n",
    "BABA <- BABA[,\"BABA.Close\"]\n",
    "plot.xts(BABA, ylab = NA)"
   ]
  },
  {
   "cell_type": "markdown",
   "metadata": {},
   "source": [
    "clearly non-stationary, lets calculate log returns"
   ]
  },
  {
   "cell_type": "code",
   "execution_count": null,
   "metadata": {},
   "outputs": [],
   "source": [
    "BABA_logret <- na.omit(diff(log(BABA)))\n",
    "\n",
    "plot.xts(BABA_logret, ylab = NA)\n",
    "hist(BABA_logret,freq=FALSE,breaks=100)\n",
    "curve(dnorm(x, mean=mean(BABA_logret), sd=sd(BABA_logret)), add=TRUE, col=\"red\")"
   ]
  },
  {
   "cell_type": "code",
   "execution_count": null,
   "metadata": {},
   "outputs": [],
   "source": [
    "adf <- data.frame(\"lags\"=1:10,\"p-val\"=NA)\n",
    "\n",
    "for (i in 1:10){\n",
    "    adf[i,\"p.val\"] =as.numeric(adf.test(BABA_logret, k = i)$p.val)  \n",
    "}\n",
    "adf"
   ]
  },
  {
   "cell_type": "markdown",
   "metadata": {},
   "source": [
    "stationary, lets examine ACF and PACF"
   ]
  },
  {
   "cell_type": "code",
   "execution_count": null,
   "metadata": {},
   "outputs": [],
   "source": [
    "par(mfrow = c(2, 1))\n",
    "acf(BABA_logret)\n",
    "pacf(BABA_logret)"
   ]
  },
  {
   "cell_type": "markdown",
   "metadata": {},
   "source": [
    "Also lets test joint significance of lags"
   ]
  },
  {
   "cell_type": "code",
   "execution_count": null,
   "metadata": {},
   "outputs": [],
   "source": [
    "LB <- data.frame(\"lags\"=1:10,\"p-val\"=NA)\n",
    "\n",
    "for (i in 1:10){\n",
    "    LB[i,\"p.val\"] =Box.test(BABA_logret, type = \"Ljung-Box\", lag = i)$p.val\n",
    "}\n",
    "LB"
   ]
  },
  {
   "cell_type": "markdown",
   "metadata": {},
   "source": [
    "Null hypothesis of autocorrelations up to lag k equal zero is very likely to be rejected (according to Ljung box test)"
   ]
  },
  {
   "cell_type": "markdown",
   "metadata": {},
   "source": [
    "From ACF and PACF as well as Box-Ljung test it appears that there is no dependence on lags in both subsamples and therefore I will proceed to GARCH."
   ]
  },
  {
   "cell_type": "markdown",
   "metadata": {},
   "source": [
    "Now, lets fit only mean and test for heteroskedasticity"
   ]
  },
  {
   "cell_type": "code",
   "execution_count": null,
   "metadata": {},
   "outputs": [],
   "source": [
    "arima101 <- arima(BABA_logret, order = c(1, 0, 1))\n",
    "arima101\n",
    "arch.test(arima101)"
   ]
  },
  {
   "cell_type": "code",
   "execution_count": null,
   "metadata": {},
   "outputs": [],
   "source": [
    "custom_ARIMA <- function(dat,max_p,max_q, d, const){\n",
    "  model_config <-c()\n",
    "  model_AIC <-c()\n",
    "  model_BIC <-c()\n",
    "  Ljung_Box_pval <-c()\n",
    "  RMSE <- c()\n",
    "  for (i in 1:(max_p+1)){\n",
    "    for (j in 1:(max_q+1)){\n",
    "          arima<- tryCatch(Arima(dat,  # variable\n",
    "                                 order = c(i-1,d,j-1),  # (p,d,q) parameters\n",
    "                                 include.constant = const),\n",
    "                           warning = function(w) {print(paste(\"non-finite finite-difference value\", ''));\n",
    "                             NaN},\n",
    "                           error = function(e) {print(paste(\"non-finite finite-difference value\", ''));\n",
    "                             NaN})\n",
    "          \n",
    "          print(paste(i-1,d,j-1,sep = '_'))\n",
    "          if (!is.numeric(arima)){\n",
    "            model_config <-c(model_config, \n",
    "                             paste(i-1,d,j-1,sep=',')\n",
    "                             )\n",
    "            model_AIC <- c(model_AIC, (AIC(arima)))\n",
    "            model_BIC <- c(model_BIC, (BIC(arima)))\n",
    "            Ljung_Box_pval <-c(Ljung_Box_pval,(as.numeric(sub(\".*p-value = \",\"\", \n",
    "                                                              capture.output(checkresiduals(arima, plot=FALSE)[5]))[5])))\n",
    "            RMSE_tmp <-round(sqrt(mean((as.vector(arima$fitted) - as.vector(dat))^2)),1)\n",
    "            RMSE <- c(RMSE, RMSE_tmp)\n",
    "          }\n",
    "        }\n",
    "      }\n",
    "  df <- as.data.frame(cbind(model_config, \n",
    "                            model_AIC,\n",
    "                            as.numeric(as.character(model_BIC)),\n",
    "                            as.numeric(as.character(Ljung_Box_pval)),\n",
    "                            RMSE))\n",
    "  names(df) <- c('model_config','model_AIC','model_BIC','Ljung_Box_pval','RMSE')\n",
    "  df$model_config <- as.character(df$model_config)\n",
    "  df$model_AIC <- as.numeric(as.character(df$model_AIC))\n",
    "  df$model_BIC <- as.numeric(as.character(df$model_BIC))\n",
    "  df$Ljung_Box_pval <- as.numeric(as.character(df$Ljung_Box_pval))\n",
    "  return(df)\n",
    "}\n",
    "\n",
    "custom_ARIMA_results <- custom_ARIMA(BABA_logret, 10, 10, 0, FALSE)\n"
   ]
  },
  {
   "cell_type": "code",
   "execution_count": null,
   "metadata": {},
   "outputs": [],
   "source": [
    "head(custom_ARIMA_results[order(custom_ARIMA_results$model_AIC),],5)\n",
    "\n",
    "head(custom_ARIMA_results[order(custom_ARIMA_results$model_BIC),],5)"
   ]
  },
  {
   "cell_type": "code",
   "execution_count": null,
   "metadata": {},
   "outputs": [],
   "source": [
    "auto.arima(BABA_logret, ic = \"aic\")\n",
    "auto.arima(BABA_logret, ic = \"bic\")"
   ]
  },
  {
   "cell_type": "markdown",
   "metadata": {},
   "source": [
    "# Conditional volatility"
   ]
  },
  {
   "cell_type": "markdown",
   "metadata": {},
   "source": [
    "We can see that mean is very close to 0 (we might have white noise processes), and since we reject homoskedasticity in both subsamples, it is appropriate to fit model from GARCH family.\n",
    "\n",
    "We start with GARCH(1,1) and set last 200 observations to be kept for out of sample forecasting "
   ]
  },
  {
   "cell_type": "code",
   "execution_count": null,
   "metadata": {},
   "outputs": [],
   "source": [
    "garch11_spec = ugarchspec(mean.model = list(armaOrder=c(0, 0)), variance.model = list(model = \"sGARCH\", garchOrder = c(1, 1)))\n",
    "\n",
    "garch11_s1 = ugarchfit(garch11_spec, INTC_s1_logret, out.sample = 200)\n",
    "garch11_s2 = ugarchfit(garch11_spec, INTC_s2_logret, out.sample = 200)\n",
    "\n",
    "garch11_s1\n",
    "garch11_s2"
   ]
  },
  {
   "cell_type": "markdown",
   "metadata": {},
   "source": [
    "From the results we can see that all coefficients except mean are significant on both subsamples and null hypothesis of no autocorellation cannot be rejected (Ljung Box test). "
   ]
  },
  {
   "cell_type": "markdown",
   "metadata": {},
   "source": [
    "From test for normality we get"
   ]
  },
  {
   "cell_type": "code",
   "execution_count": null,
   "metadata": {},
   "outputs": [],
   "source": [
    "jarque.bera.test(residuals(garch11_s1))\n",
    "\n",
    "par(mfrow = c(1, 2))\n",
    "\n",
    "hist(residuals(garch11_s1), breaks = 30, main ='Histogram', cex.main = 0.8, cex.lab = 0.8, xlab = NA,\n",
    "    cex.axis = 0.8)\n",
    "box()\n",
    "\n",
    "qqnorm(residuals(garch11_s1), cex.main = 0.8, cex.lab = 0.8, cex.axis = 0.8) \n",
    "qqline(residuals(garch11_s1), lwd = 2)"
   ]
  },
  {
   "cell_type": "code",
   "execution_count": null,
   "metadata": {},
   "outputs": [],
   "source": [
    "jarque.bera.test(residuals(garch11_s2))\n",
    "\n",
    "par(mfrow = c(1, 2))\n",
    "\n",
    "hist(residuals(garch11_s2), breaks = 30, main ='Histogram', cex.main = 0.8, cex.lab = 0.8, xlab = NA,\n",
    "    cex.axis = 0.8)\n",
    "box()\n",
    "\n",
    "qqnorm(residuals(garch11_s2), cex.main = 0.8, cex.lab = 0.8, cex.axis = 0.8) \n",
    "qqline(residuals(garch11_s2), lwd = 2)"
   ]
  },
  {
   "cell_type": "markdown",
   "metadata": {},
   "source": [
    "residuals do not appear to be normally distributed, lets fit residuals having students t-distribution"
   ]
  },
  {
   "cell_type": "code",
   "execution_count": null,
   "metadata": {},
   "outputs": [],
   "source": [
    "garch11t_spec = ugarchspec(mean.model = list(armaOrder=c(0, 0)), variance.model = list(model = \"sGARCH\", garchOrder = c(1, 1)),distribution.model = 'std')\n",
    "\n",
    "garch11t_s1 = ugarchfit(garch11t_spec, INTC_s1_logret, out.sample = 200)\n",
    "garch11t_s2 = ugarchfit(garch11t_spec, INTC_s2_logret, out.sample = 200)\n",
    "\n",
    "garch11t_s1\n",
    "garch11t_s2"
   ]
  },
  {
   "cell_type": "code",
   "execution_count": null,
   "metadata": {},
   "outputs": [],
   "source": [
    "jarque.bera.test(residuals(garch11t_s1))\n",
    "\n",
    "par(mfrow = c(1, 2))\n",
    "\n",
    "hist(residuals(garch11t_s1), breaks = 30, main ='Histogram', cex.main = 0.8, cex.lab = 0.8, xlab = NA,\n",
    "    cex.axis = 0.8)\n",
    "box()\n",
    "\n",
    "qqnorm(residuals(garch11t_s1), cex.main = 0.8, cex.lab = 0.8, cex.axis = 0.8) \n",
    "qqline(residuals(garch11t_s1), lwd = 2)"
   ]
  },
  {
   "cell_type": "code",
   "execution_count": null,
   "metadata": {},
   "outputs": [],
   "source": [
    "jarque.bera.test(residuals(garch11t_s2))\n",
    "\n",
    "par(mfrow = c(1, 2))\n",
    "\n",
    "hist(residuals(garch11t_s2), breaks = 30, main ='Histogram', cex.main = 0.8, cex.lab = 0.8, xlab = NA,\n",
    "    cex.axis = 0.8)\n",
    "box()\n",
    "\n",
    "qqnorm(residuals(garch11t_s2), cex.main = 0.8, cex.lab = 0.8, cex.axis = 0.8) \n",
    "qqline(residuals(garch11t_s2), lwd = 2)"
   ]
  },
  {
   "cell_type": "markdown",
   "metadata": {},
   "source": [
    "We can see that there is no significant improvement."
   ]
  },
  {
   "cell_type": "markdown",
   "metadata": {},
   "source": [
    "Lets try to fit GARCH that accounts for asymmetric responses, namely EGEARCH and GJRGARCH"
   ]
  },
  {
   "cell_type": "code",
   "execution_count": null,
   "metadata": {},
   "outputs": [],
   "source": [
    "egearch_spec <- ugarchspec(mean.model = list(armaOrder=c(0, 0)), variance.model = list(model = \"eGARCH\", \n",
    "                      garchOrder = c(1, 1)))\n",
    "\n",
    "\n",
    "egearch_s1 = ugarchfit(egearch_spec, INTC_s1_logret, out.sample = 200)\n",
    "egearch_s2 = ugarchfit(egearch_spec, INTC_s2_logret, out.sample = 200)\n",
    "\n",
    "egearch_s1\n",
    "egearch_s2"
   ]
  },
  {
   "cell_type": "markdown",
   "metadata": {},
   "source": [
    "and EGEARCH with t dstribution"
   ]
  },
  {
   "cell_type": "code",
   "execution_count": null,
   "metadata": {},
   "outputs": [],
   "source": [
    "egearcht_spec <- ugarchspec(mean.model = list(armaOrder=c(0, 0)), variance.model = list(model = \"eGARCH\", \n",
    "                      garchOrder = c(1, 1)),distribution.model = 'std')\n",
    "\n",
    "\n",
    "egearcht_s1 = ugarchfit(egearcht_spec, INTC_s1_logret, out.sample = 200)\n",
    "egearcht_s2 = ugarchfit(egearcht_spec, INTC_s2_logret, out.sample = 200)\n",
    "\n",
    "egearcht_s1\n",
    "egearcht_s2"
   ]
  },
  {
   "cell_type": "markdown",
   "metadata": {},
   "source": [
    "and GJR_GARCH (both with normal and t distribution)"
   ]
  },
  {
   "cell_type": "code",
   "execution_count": null,
   "metadata": {},
   "outputs": [],
   "source": [
    "gjrgarch_spec <- ugarchspec(mean.model = list(armaOrder=c(0, 0)), variance.model = list(model = \"gjrGARCH\", \n",
    "                      garchOrder = c(1, 1)))\n",
    "gjrgarcht_spec <- ugarchspec(mean.model = list(armaOrder=c(0, 0)), variance.model = list(model = \"gjrGARCH\", \n",
    "                      garchOrder = c(1, 1)),distribution.model = 'std')\n",
    "\n",
    "gjrgarch_s1 = ugarchfit(gjrgarch_spec, INTC_s1_logret, out.sample = 200)\n",
    "gjrgarch_s2 = ugarchfit(gjrgarch_spec, INTC_s2_logret, out.sample = 200)\n",
    "gjrgarcht_s1 = ugarchfit(gjrgarcht_spec, INTC_s1_logret, out.sample = 200)\n",
    "gjrgarcht_s2 = ugarchfit(gjrgarcht_spec, INTC_s2_logret, out.sample = 200)\n",
    "\n",
    "gjrgarch_s1\n",
    "gjrgarch_s2\n",
    "gjrgarcht_s1\n",
    "gjrgarcht_s2"
   ]
  },
  {
   "cell_type": "markdown",
   "metadata": {},
   "source": [
    "Lets compare coefficients from all models"
   ]
  },
  {
   "cell_type": "code",
   "execution_count": null,
   "metadata": {},
   "outputs": [],
   "source": [
    "coefficients_s1 <- cbind(coef(garch11_s1),\n",
    "                        coef(garch11t_s1),\n",
    "                        coef(egearch_s1),\n",
    "                        coef(egearcht_s1),  \n",
    "                        coef(gjrgarch_s1),\n",
    "                        coef(gjrgarcht_s1))\n",
    "\n",
    "coefficients_s2 <- cbind(coef(garch11_s2),\n",
    "                        coef(garch11t_s2),\n",
    "                        coef(egearch_s2),\n",
    "                        coef(egearcht_s2),  \n",
    "                        coef(gjrgarch_s2),\n",
    "                        coef(gjrgarcht_s2))\n",
    "\n",
    "colnames(coefficients_s1) <- c(\"GARCH(1,1)\",\"GARCH(1,1)-t\",\"EGEARCH\",\"EGEARCH-t\",\"GJRGARCH\",\"GJRGARCH-t\")\n",
    "colnames(coefficients_s2) <- c(\"GARCH(1,1)\",\"GARCH(1,1)-t\",\"EGEARCH\",\"EGEARCH-t\",\"GJRGARCH\",\"GJRGARCH-t\")\n",
    "coefficients_s1\n",
    "coefficients_s2"
   ]
  },
  {
   "cell_type": "markdown",
   "metadata": {},
   "source": [
    "And lets check which model performs the best according to AIC"
   ]
  },
  {
   "cell_type": "code",
   "execution_count": null,
   "metadata": {},
   "outputs": [],
   "source": [
    "performance <- cbind(c(infocriteria(garch11_s1)[\"Akaike\",],\n",
    "                        infocriteria(garch11t_s1)[\"Akaike\",],\n",
    "                        infocriteria(egearch_s1)[\"Akaike\",],\n",
    "                        infocriteria(egearcht_s1)[\"Akaike\",],\n",
    "                        infocriteria(gjrgarch_s1)[\"Akaike\",],\n",
    "                        infocriteria(gjrgarcht_s1)[\"Akaike\",]),\n",
    "                     c(infocriteria(garch11_s2)[\"Akaike\",],\n",
    "                        infocriteria(garch11t_s2)[\"Akaike\",],\n",
    "                        infocriteria(egearch_s2)[\"Akaike\",],\n",
    "                        infocriteria(egearcht_s2)[\"Akaike\",],\n",
    "                        infocriteria(gjrgarch_s2)[\"Akaike\",],\n",
    "                        infocriteria(gjrgarcht_s2)[\"Akaike\",]))\n",
    "colnames(performance) <- c(\"subsample 1\",\"subsample 2\")\n",
    "rownames(performance) <- c(\"GARCH(1,1)\",\"GARCH(1,1)-t\",\"EGEARCH\",\"EGEARCH-t\",\"GJRGARCH\",\"GJRGARCH-t\")\n",
    "performance\n"
   ]
  },
  {
   "cell_type": "markdown",
   "metadata": {},
   "source": [
    "GARCH(1,1)-t and EGEARCH-t perform the best in both subsamples (lowest AIC), but since I expect the first one to be more appropriate, I will proceed with GARCH(1,1)-t"
   ]
  },
  {
   "cell_type": "markdown",
   "metadata": {},
   "source": [
    "Now lets perform dynamic forecast and set the forecast horizon to 200"
   ]
  },
  {
   "cell_type": "code",
   "execution_count": null,
   "metadata": {},
   "outputs": [],
   "source": [
    "for_garch11t_s1 = ugarchforecast(garch11t_s1, n.ahead = 1, n.roll = 200)\n",
    "for_garch11t_s2 = ugarchforecast(garch11t_s2, n.ahead = 1, n.roll = 200)"
   ]
  },
  {
   "cell_type": "code",
   "execution_count": null,
   "metadata": {},
   "outputs": [],
   "source": [
    "plot.ts(garch11t_s1@fit$sigma, ylab = NA, xlim = c(0, length(INTC_s1_logret)), main = 'GARCH(1,1) volatility forecasted for first subsample ')\n",
    "lines(c(rep(NA, length(INTC_s1_logret) - 200 - 1), for_garch11t_s1@forecast$sigma), col = 'red')\n",
    "\n",
    "\n",
    "plot.ts(garch11t_s2@fit$sigma, ylab = NA, xlim = c(0, length(INTC_s2_logret)), main = 'GARCH(1,1) volatility forecasted for second subsample')\n",
    "lines(c(rep(NA, length(INTC_s2_logret) - 200 - 1), for_garch11t_s2@forecast$sigma), col = 'red')\n"
   ]
  },
  {
   "cell_type": "markdown",
   "metadata": {},
   "source": [
    "Now, lets fit EWMA model (this is done by restricting omega to be equal to 0)"
   ]
  },
  {
   "cell_type": "code",
   "execution_count": null,
   "metadata": {},
   "outputs": [],
   "source": [
    "ewma_spec = ugarchspec(mean.model = list(armaOrder=c(0, 0)), variance.model = list(model = \"iGARCH\", garchOrder = c(1, 1)),\n",
    "                       fixed.pars = list(omega = 0))\n",
    "\n",
    "ewma_s1 = ugarchfit(ewma_spec,INTC_s1_logret , out.sample = 200)\n",
    "ewma_s2 = ugarchfit(ewma_spec,INTC_s2_logret, out.sample = 200)"
   ]
  },
  {
   "cell_type": "markdown",
   "metadata": {},
   "source": [
    "and forecast"
   ]
  },
  {
   "cell_type": "code",
   "execution_count": null,
   "metadata": {},
   "outputs": [],
   "source": [
    "for_ewma_s1 = ugarchforecast(ewma_s1, n.ahead = 1, n.roll = 200)\n",
    "for_ewma_s2 = ugarchforecast(ewma_s2, n.ahead = 1, n.roll = 200)"
   ]
  },
  {
   "cell_type": "code",
   "execution_count": null,
   "metadata": {},
   "outputs": [],
   "source": [
    "plot.ts(ewma_s1@fit$sigma, ylab = NA, xlim = c(0, length(INTC_s1_logret)), main = 'EWMA volatility forecasted for first subsample ')\n",
    "lines(c(rep(NA, length(INTC_s1_logret) - 200 - 1), for_ewma_s1@forecast$sigma), col = 'red')\n",
    "\n",
    "\n",
    "plot.ts(ewma_s2@fit$sigma, ylab = NA, xlim = c(0, length(INTC_s2_logret)), main = 'EWMA volatility forecasted for second subsample')\n",
    "lines(c(rep(NA, length(INTC_s2_logret) - 200 - 1), for_ewma_s2@forecast$sigma), col = 'red')\n"
   ]
  },
  {
   "cell_type": "markdown",
   "metadata": {},
   "source": [
    "From the graphs we can see that they produce similar predictions (especially in second subsample), lets examine MSE.\n",
    "\n",
    "First I bind the prediction vectors"
   ]
  },
  {
   "cell_type": "code",
   "execution_count": null,
   "metadata": {},
   "outputs": [],
   "source": [
    "predictions  <- cbind(for_garch11t_s1@forecast$sigmaFor[1:200],\n",
    "                      for_garch11t_s2@forecast$sigmaFor[1:200],\n",
    "                      for_ewma_s1@forecast$sigmaFor[1:200],\n",
    "                      for_ewma_s1@forecast$sigmaFor[1:200])"
   ]
  },
  {
   "cell_type": "markdown",
   "metadata": {},
   "source": [
    "Then I calculate volatility proxy"
   ]
  },
  {
   "cell_type": "code",
   "execution_count": null,
   "metadata": {},
   "outputs": [],
   "source": [
    "vol_s1 <- (tail(INTC_s1_logret,200))^2\n",
    "vol_s2 <- (tail(INTC_s2_logret,200))^2"
   ]
  },
  {
   "cell_type": "markdown",
   "metadata": {},
   "source": [
    "And finally proceed to MSE"
   ]
  },
  {
   "cell_type": "code",
   "execution_count": null,
   "metadata": {},
   "outputs": [],
   "source": [
    "MSE_results <- cbind(MSE(y_pred = predictions[1], y_true = vol_s1),\n",
    "                     MSE(y_pred = predictions[2], y_true = vol_s2),\n",
    "                     MSE(y_pred = predictions[3], y_true = vol_s1),\n",
    "                     MSE(y_pred = predictions[4], y_true = vol_s2))\n",
    "\n",
    "\n",
    "colnames(MSE_results) <- c('GARCH(1,1)-t subsample 1',\n",
    "                          'GARCH(1,1)-t subsample 2',\n",
    "                          'EWMA subsample 1',\n",
    "                          'EWMA subsample 2')\n",
    "\n",
    "MSE_results"
   ]
  },
  {
   "cell_type": "markdown",
   "metadata": {},
   "source": [
    "GARCH(1,1)-t appears to perform better than EWMA in terms of mean squared error in both subsamples"
   ]
  }
 ],
 "metadata": {
  "kernelspec": {
   "display_name": "R",
   "language": "R",
   "name": "ir"
  },
  "language_info": {
   "codemirror_mode": "r",
   "file_extension": ".r",
   "mimetype": "text/x-r-source",
   "name": "R",
   "pygments_lexer": "r",
   "version": "3.6.1"
  }
 },
 "nbformat": 4,
 "nbformat_minor": 4
}
